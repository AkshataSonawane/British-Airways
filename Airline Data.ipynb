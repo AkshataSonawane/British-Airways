{
 "cells": [
  {
   "cell_type": "code",
   "execution_count": 1,
   "id": "83ff825f",
   "metadata": {},
   "outputs": [
    {
     "name": "stderr",
     "output_type": "stream",
     "text": [
      "[nltk_data] Error loading wordnet: <urlopen error [Errno 11001]\n",
      "[nltk_data]     getaddrinfo failed>\n"
     ]
    }
   ],
   "source": [
    "import requests\n",
    "from bs4 import BeautifulSoup\n",
    "import pandas as pd\n",
    "import numpy as np \n",
    "import string \n",
    "import seaborn as sns\n",
    "import matplotlib.pyplot as plt\n",
    "import nltk\n",
    "nltk.download('wordnet')\n",
    "from nltk.corpus import stopwords\n",
    "from nltk.stem import WordNetLemmatizer"
   ]
  },
  {
   "cell_type": "code",
   "execution_count": 3,
   "id": "d978a7fc",
   "metadata": {},
   "outputs": [
    {
     "name": "stdout",
     "output_type": "stream",
     "text": [
      "Scraping page 1\n",
      "   ---> 100 total reviews\n",
      "Scraping page 2\n",
      "   ---> 200 total reviews\n",
      "Scraping page 3\n",
      "   ---> 300 total reviews\n",
      "Scraping page 4\n",
      "   ---> 400 total reviews\n",
      "Scraping page 5\n",
      "   ---> 500 total reviews\n",
      "Scraping page 6\n",
      "   ---> 600 total reviews\n",
      "Scraping page 7\n",
      "   ---> 700 total reviews\n",
      "Scraping page 8\n",
      "   ---> 800 total reviews\n",
      "Scraping page 9\n",
      "   ---> 900 total reviews\n",
      "Scraping page 10\n",
      "   ---> 1000 total reviews\n"
     ]
    }
   ],
   "source": [
    "base_url = \"https://www.airlinequality.com/airline-reviews/british-airways\"\n",
    "pages = 10\n",
    "page_size = 100\n",
    "\n",
    "reviews = []\n",
    "\n",
    "# for i in range(1, pages + 1):\n",
    "for i in range(1, pages + 1):\n",
    "\n",
    "    print(f\"Scraping page {i}\")\n",
    "\n",
    "    # Create URL to collect links from paginated data\n",
    "    url = f\"{base_url}/page/{i}/?sortby=post_date%3ADesc&pagesize={page_size}\"\n",
    "\n",
    "    # Collect HTML data from this page\n",
    "    response = requests.get(url)\n",
    "\n",
    "    # Parse content\n",
    "    content = response.content\n",
    "    parsed_content = BeautifulSoup(content, 'html.parser')\n",
    "    for para in parsed_content.find_all(\"div\", {\"class\": \"text_content\"}):\n",
    "        reviews.append(para.get_text())\n",
    "        \n",
    "    \n",
    "    \n",
    "    print(f\"   ---> {len(reviews)} total reviews\")"
   ]
  },
  {
   "cell_type": "code",
   "execution_count": 4,
   "id": "3a82ef7d",
   "metadata": {},
   "outputs": [
    {
     "data": {
      "text/html": [
       "<div>\n",
       "<style scoped>\n",
       "    .dataframe tbody tr th:only-of-type {\n",
       "        vertical-align: middle;\n",
       "    }\n",
       "\n",
       "    .dataframe tbody tr th {\n",
       "        vertical-align: top;\n",
       "    }\n",
       "\n",
       "    .dataframe thead th {\n",
       "        text-align: right;\n",
       "    }\n",
       "</style>\n",
       "<table border=\"1\" class=\"dataframe\">\n",
       "  <thead>\n",
       "    <tr style=\"text-align: right;\">\n",
       "      <th></th>\n",
       "      <th>reviews</th>\n",
       "    </tr>\n",
       "  </thead>\n",
       "  <tbody>\n",
       "    <tr>\n",
       "      <th>0</th>\n",
       "      <td>✅ Trip Verified | Not a great experience. I co...</td>\n",
       "    </tr>\n",
       "    <tr>\n",
       "      <th>1</th>\n",
       "      <td>Not Verified | I was excited to fly BA as I'd ...</td>\n",
       "    </tr>\n",
       "    <tr>\n",
       "      <th>2</th>\n",
       "      <td>Not Verified |  I just want to warn everyone o...</td>\n",
       "    </tr>\n",
       "    <tr>\n",
       "      <th>3</th>\n",
       "      <td>Not Verified | Paid for business class travell...</td>\n",
       "    </tr>\n",
       "    <tr>\n",
       "      <th>4</th>\n",
       "      <td>✅ Trip Verified |  The plane was extremely dir...</td>\n",
       "    </tr>\n",
       "  </tbody>\n",
       "</table>\n",
       "</div>"
      ],
      "text/plain": [
       "                                             reviews\n",
       "0  ✅ Trip Verified | Not a great experience. I co...\n",
       "1  Not Verified | I was excited to fly BA as I'd ...\n",
       "2  Not Verified |  I just want to warn everyone o...\n",
       "3  Not Verified | Paid for business class travell...\n",
       "4  ✅ Trip Verified |  The plane was extremely dir..."
      ]
     },
     "execution_count": 4,
     "metadata": {},
     "output_type": "execute_result"
    }
   ],
   "source": [
    "df = pd.DataFrame()\n",
    "df[\"reviews\"] = reviews\n",
    "df.head()"
   ]
  },
  {
   "cell_type": "code",
   "execution_count": 5,
   "id": "75399edc",
   "metadata": {},
   "outputs": [],
   "source": [
    "df.to_csv(\"BA_reviews.csv\")"
   ]
  },
  {
   "cell_type": "code",
   "execution_count": 6,
   "id": "a46e8ec8",
   "metadata": {},
   "outputs": [
    {
     "data": {
      "text/plain": [
       "0      ✅ Trip Verified | Not a great experience. I co...\n",
       "1      Not Verified | I was excited to fly BA as I'd ...\n",
       "2      Not Verified |  I just want to warn everyone o...\n",
       "3      Not Verified | Paid for business class travell...\n",
       "4      ✅ Trip Verified |  The plane was extremely dir...\n",
       "                             ...                        \n",
       "995    ✅ Trip Verified |  London to Seoul. I normally...\n",
       "996    ✅ Trip Verified |  London Heathrow to New York...\n",
       "997    ✅ Trip Verified | San Diego to London. From th...\n",
       "998    ✅ Trip Verified |  Gatwick to St Lucia. Flew B...\n",
       "999    ✅ Trip Verified |  London to Chennai. It was a...\n",
       "Name: reviews, Length: 1000, dtype: object"
      ]
     },
     "execution_count": 6,
     "metadata": {},
     "output_type": "execute_result"
    }
   ],
   "source": [
    "reviews = pd.read_csv(\"BA_reviews.csv\")\n",
    "reviews = reviews.pop(\"reviews\")\n",
    "reviews"
   ]
  },
  {
   "cell_type": "markdown",
   "id": "bf873344",
   "metadata": {},
   "source": [
    "# Clean data"
   ]
  },
  {
   "cell_type": "code",
   "execution_count": 7,
   "id": "59397dba",
   "metadata": {},
   "outputs": [],
   "source": [
    "def remove_punctuation(text):\n",
    "    for punctuation in string.punctuation:\n",
    "        text = text.replace(punctuation, '')\n",
    "    return text"
   ]
  },
  {
   "cell_type": "code",
   "execution_count": 8,
   "id": "1982317d",
   "metadata": {},
   "outputs": [
    {
     "name": "stderr",
     "output_type": "stream",
     "text": [
      "C:\\Users\\DELL\\AppData\\Local\\Temp\\ipykernel_9100\\2734484534.py:1: FutureWarning: The default value of regex will change from True to False in a future version.\n",
      "  reviews = reviews.str.replace('Trip Verified |','')\n",
      "C:\\Users\\DELL\\AppData\\Local\\Temp\\ipykernel_9100\\2734484534.py:4: FutureWarning: The default value of regex will change from True to False in a future version. In addition, single character regular expressions will *not* be treated as literal strings when regex=True.\n",
      "  reviews = reviews.str.replace('|','')\n",
      "C:\\Users\\DELL\\AppData\\Local\\Temp\\ipykernel_9100\\2734484534.py:6: FutureWarning: The default value of regex will change from True to False in a future version.\n",
      "  reviews = reviews.str.replace(r'\\b(\\w{1,3})\\b','')\n"
     ]
    },
    {
     "data": {
      "text/plain": [
       "0          great experience  could  check  online   s...\n",
       "1         excited       travelled with them long haul...\n",
       "2         just want  warn everyone   worst customer s...\n",
       "3       Paid  business class travelling Cairo  London...\n",
       "4          plane  extremely dirty with chocolate smud...\n",
       "                             ...                        \n",
       "995       London  Seoul  normally  business  this   l...\n",
       "996       London Heathrow   York   drop    well Loung...\n",
       "997       Diego  London From  moment that  boarded th...\n",
       "998       Gatwick   Lucia Flew   revamped business cl...\n",
       "999       London  Chennai   amazing  crew were very f...\n",
       "Name: reviews, Length: 1000, dtype: object"
      ]
     },
     "execution_count": 8,
     "metadata": {},
     "output_type": "execute_result"
    }
   ],
   "source": [
    "reviews = reviews.str.replace('Trip Verified |','')\n",
    "reviews = reviews.str.replace('Not Verified ','')\n",
    "reviews = reviews.str.replace('✅','')\n",
    "reviews = reviews.str.replace('|','')\n",
    "reviews = reviews.str.replace(\"'\",'')\n",
    "reviews = reviews.str.replace(r'\\b(\\w{1,3})\\b','')\n",
    "reviews = reviews.apply(remove_punctuation)\n",
    "reviews\n"
   ]
  },
  {
   "cell_type": "code",
   "execution_count": 9,
   "id": "4e1d7f0d",
   "metadata": {},
   "outputs": [],
   "source": [
    "# Function for text preprocessing\n",
    "def preprocess_text(text):\n",
    "    # Convert to lowercase\n",
    "    text = text.lower()\n",
    "    \n",
    "    # Remove punctuation\n",
    "\n",
    "    text = text.translate(str.maketrans(\"\", \"\", string.punctuation))\n",
    "    \n",
    "    # Lemmatization\n",
    "    lemmatizer = WordNetLemmatizer()\n",
    "    text = ' '.join([lemmatizer.lemmatize(word) for word in text.split()])\n",
    "    \n",
    "    return text\n",
    "\n",
    "# Apply text preprocessing to the 'reviews' column\n",
    "reviews = reviews.apply(preprocess_text)"
   ]
  },
  {
   "cell_type": "code",
   "execution_count": 10,
   "id": "a7a0f3ce",
   "metadata": {
    "scrolled": true
   },
   "outputs": [
    {
     "data": {
      "text/plain": [
       "0      great experience could check online separate p...\n",
       "1      excited travelled with them long haul over 25y...\n",
       "2      just want warn everyone worst customer service...\n",
       "3      paid business class travelling cairo london he...\n",
       "4      plane extremely dirty with chocolate smudged o...\n",
       "                             ...                        \n",
       "995    london seoul normally business this last minut...\n",
       "996    london heathrow york drop well lounge gallery ...\n",
       "997    diego london from moment that boarded this fli...\n",
       "998    gatwick lucia flew revamped business class tod...\n",
       "999    london chennai amazing crew were very friendly...\n",
       "Name: reviews, Length: 1000, dtype: object"
      ]
     },
     "execution_count": 10,
     "metadata": {},
     "output_type": "execute_result"
    }
   ],
   "source": [
    "reviews"
   ]
  },
  {
   "cell_type": "code",
   "execution_count": 14,
   "id": "eb924878",
   "metadata": {},
   "outputs": [],
   "source": [
    "df1 = pd.DataFrame(reviews)"
   ]
  },
  {
   "cell_type": "code",
   "execution_count": 15,
   "id": "5d5e4682",
   "metadata": {},
   "outputs": [
    {
     "data": {
      "text/html": [
       "<div>\n",
       "<style scoped>\n",
       "    .dataframe tbody tr th:only-of-type {\n",
       "        vertical-align: middle;\n",
       "    }\n",
       "\n",
       "    .dataframe tbody tr th {\n",
       "        vertical-align: top;\n",
       "    }\n",
       "\n",
       "    .dataframe thead th {\n",
       "        text-align: right;\n",
       "    }\n",
       "</style>\n",
       "<table border=\"1\" class=\"dataframe\">\n",
       "  <thead>\n",
       "    <tr style=\"text-align: right;\">\n",
       "      <th></th>\n",
       "      <th>reviews</th>\n",
       "    </tr>\n",
       "  </thead>\n",
       "  <tbody>\n",
       "    <tr>\n",
       "      <th>0</th>\n",
       "      <td>great experience could check online separate p...</td>\n",
       "    </tr>\n",
       "    <tr>\n",
       "      <th>1</th>\n",
       "      <td>excited travelled with them long haul over 25y...</td>\n",
       "    </tr>\n",
       "    <tr>\n",
       "      <th>2</th>\n",
       "      <td>just want warn everyone worst customer service...</td>\n",
       "    </tr>\n",
       "    <tr>\n",
       "      <th>3</th>\n",
       "      <td>paid business class travelling cairo london he...</td>\n",
       "    </tr>\n",
       "    <tr>\n",
       "      <th>4</th>\n",
       "      <td>plane extremely dirty with chocolate smudged o...</td>\n",
       "    </tr>\n",
       "    <tr>\n",
       "      <th>...</th>\n",
       "      <td>...</td>\n",
       "    </tr>\n",
       "    <tr>\n",
       "      <th>995</th>\n",
       "      <td>london seoul normally business this last minut...</td>\n",
       "    </tr>\n",
       "    <tr>\n",
       "      <th>996</th>\n",
       "      <td>london heathrow york drop well lounge gallery ...</td>\n",
       "    </tr>\n",
       "    <tr>\n",
       "      <th>997</th>\n",
       "      <td>diego london from moment that boarded this fli...</td>\n",
       "    </tr>\n",
       "    <tr>\n",
       "      <th>998</th>\n",
       "      <td>gatwick lucia flew revamped business class tod...</td>\n",
       "    </tr>\n",
       "    <tr>\n",
       "      <th>999</th>\n",
       "      <td>london chennai amazing crew were very friendly...</td>\n",
       "    </tr>\n",
       "  </tbody>\n",
       "</table>\n",
       "<p>1000 rows × 1 columns</p>\n",
       "</div>"
      ],
      "text/plain": [
       "                                               reviews\n",
       "0    great experience could check online separate p...\n",
       "1    excited travelled with them long haul over 25y...\n",
       "2    just want warn everyone worst customer service...\n",
       "3    paid business class travelling cairo london he...\n",
       "4    plane extremely dirty with chocolate smudged o...\n",
       "..                                                 ...\n",
       "995  london seoul normally business this last minut...\n",
       "996  london heathrow york drop well lounge gallery ...\n",
       "997  diego london from moment that boarded this fli...\n",
       "998  gatwick lucia flew revamped business class tod...\n",
       "999  london chennai amazing crew were very friendly...\n",
       "\n",
       "[1000 rows x 1 columns]"
      ]
     },
     "execution_count": 15,
     "metadata": {},
     "output_type": "execute_result"
    }
   ],
   "source": [
    "df1"
   ]
  },
  {
   "cell_type": "code",
   "execution_count": 17,
   "id": "036626b5",
   "metadata": {
    "scrolled": false
   },
   "outputs": [
    {
     "data": {
      "text/plain": [
       "flight       2094\n",
       "with         1347\n",
       "that         1191\n",
       "they         1135\n",
       "were         1057\n",
       "this          865\n",
       "seat          845\n",
       "have          820\n",
       "service       742\n",
       "from          718\n",
       "time          616\n",
       "hour          579\n",
       "very          576\n",
       "there         456\n",
       "food          446\n",
       "crew          439\n",
       "class         431\n",
       "airline       428\n",
       "london        427\n",
       "which         423\n",
       "good          416\n",
       "when          408\n",
       "airway        402\n",
       "british       400\n",
       "staff         393\n",
       "business      389\n",
       "their         383\n",
       "cabin         370\n",
       "would         368\n",
       "after         364\n",
       "customer      338\n",
       "only          336\n",
       "check         336\n",
       "’             319\n",
       "been          318\n",
       "heathrow      316\n",
       "them          304\n",
       "passenger     294\n",
       "back          294\n",
       "then          288\n",
       "just          278\n",
       "even          267\n",
       "airport       262\n",
       "told          262\n",
       "could         258\n",
       "other         255\n",
       "more          252\n",
       "boarding      248\n",
       "plane         246\n",
       "economy       245\n",
       "dtype: int64"
      ]
     },
     "execution_count": 17,
     "metadata": {},
     "output_type": "execute_result"
    }
   ],
   "source": [
    "freq_words = pd.Series(''.join(reviews).lower().split()).value_counts()[:50]\n",
    "freq_words"
   ]
  },
  {
   "cell_type": "code",
   "execution_count": 12,
   "id": "cd703e9a",
   "metadata": {
    "scrolled": true
   },
   "outputs": [
    {
     "data": {
      "image/png": "[encoded data removed]",
      "text/plain": [
       "<Figure size 1000x1000 with 1 Axes>"
      ]
     },
     "metadata": {},
     "output_type": "display_data"
    }
   ],
   "source": [
    "plt.figure(figsize = (10,10))\n",
    "freq_words.plot.barh(x= freq_words[0], y= freq_words[1])\n",
    "plt.show()"
   ]
  },
  {
   "cell_type": "code",
   "execution_count": 19,
   "id": "3741f104",
   "metadata": {},
   "outputs": [],
   "source": [
    "from textblob import TextBlob"
   ]
  },
  {
   "cell_type": "code",
   "execution_count": 20,
   "id": "4133eb3a",
   "metadata": {},
   "outputs": [
    {
     "name": "stdout",
     "output_type": "stream",
     "text": [
      "                                               reviews sentiment\n",
      "0    great experience could check online separate p...  positive\n",
      "1    excited travelled with them long haul over 25y...  positive\n",
      "2    just want warn everyone worst customer service...  positive\n",
      "3    paid business class travelling cairo london he...  negative\n",
      "4    plane extremely dirty with chocolate smudged o...  negative\n",
      "..                                                 ...       ...\n",
      "995  london seoul normally business this last minut...  positive\n",
      "996  london heathrow york drop well lounge gallery ...  positive\n",
      "997  diego london from moment that boarded this fli...  negative\n",
      "998  gatwick lucia flew revamped business class tod...  positive\n",
      "999  london chennai amazing crew were very friendly...  positive\n",
      "\n",
      "[1000 rows x 2 columns]\n"
     ]
    }
   ],
   "source": [
    "# Function to get sentiment polarity\n",
    "def get_sentiment_polarity(text):\n",
    "    analysis = TextBlob(text)\n",
    "    return analysis.sentiment.polarity\n",
    "\n",
    "# Apply the sentiment analysis function to each review in the 'reviews' column\n",
    "df1['sentiment_polarity'] = df1['reviews'].apply(get_sentiment_polarity)\n",
    "\n",
    "# Categorize sentiments as positive, negative, or neutral based on the polarity\n",
    "df1['sentiment'] = df1['sentiment_polarity'].apply(lambda x: 'positive' if x > 0 else 'negative' if x < 0 else 'neutral')\n",
    "\n",
    "# Display the DataFrame with the new 'sentiment' column\n",
    "print(df1[['reviews', 'sentiment']])"
   ]
  },
  {
   "cell_type": "code",
   "execution_count": 21,
   "id": "03c87c9d",
   "metadata": {},
   "outputs": [
    {
     "data": {
      "text/html": [
       "<div>\n",
       "<style scoped>\n",
       "    .dataframe tbody tr th:only-of-type {\n",
       "        vertical-align: middle;\n",
       "    }\n",
       "\n",
       "    .dataframe tbody tr th {\n",
       "        vertical-align: top;\n",
       "    }\n",
       "\n",
       "    .dataframe thead th {\n",
       "        text-align: right;\n",
       "    }\n",
       "</style>\n",
       "<table border=\"1\" class=\"dataframe\">\n",
       "  <thead>\n",
       "    <tr style=\"text-align: right;\">\n",
       "      <th></th>\n",
       "      <th>reviews</th>\n",
       "      <th>sentiment_polarity</th>\n",
       "      <th>sentiment</th>\n",
       "    </tr>\n",
       "  </thead>\n",
       "  <tbody>\n",
       "    <tr>\n",
       "      <th>0</th>\n",
       "      <td>great experience could check online separate p...</td>\n",
       "      <td>0.163790</td>\n",
       "      <td>positive</td>\n",
       "    </tr>\n",
       "    <tr>\n",
       "      <th>1</th>\n",
       "      <td>excited travelled with them long haul over 25y...</td>\n",
       "      <td>0.059028</td>\n",
       "      <td>positive</td>\n",
       "    </tr>\n",
       "    <tr>\n",
       "      <th>2</th>\n",
       "      <td>just want warn everyone worst customer service...</td>\n",
       "      <td>0.076852</td>\n",
       "      <td>positive</td>\n",
       "    </tr>\n",
       "    <tr>\n",
       "      <th>3</th>\n",
       "      <td>paid business class travelling cairo london he...</td>\n",
       "      <td>-0.466667</td>\n",
       "      <td>negative</td>\n",
       "    </tr>\n",
       "    <tr>\n",
       "      <th>4</th>\n",
       "      <td>plane extremely dirty with chocolate smudged o...</td>\n",
       "      <td>-0.121581</td>\n",
       "      <td>negative</td>\n",
       "    </tr>\n",
       "    <tr>\n",
       "      <th>...</th>\n",
       "      <td>...</td>\n",
       "      <td>...</td>\n",
       "      <td>...</td>\n",
       "    </tr>\n",
       "    <tr>\n",
       "      <th>995</th>\n",
       "      <td>london seoul normally business this last minut...</td>\n",
       "      <td>0.103571</td>\n",
       "      <td>positive</td>\n",
       "    </tr>\n",
       "    <tr>\n",
       "      <th>996</th>\n",
       "      <td>london heathrow york drop well lounge gallery ...</td>\n",
       "      <td>0.314103</td>\n",
       "      <td>positive</td>\n",
       "    </tr>\n",
       "    <tr>\n",
       "      <th>997</th>\n",
       "      <td>diego london from moment that boarded this fli...</td>\n",
       "      <td>-0.032949</td>\n",
       "      <td>negative</td>\n",
       "    </tr>\n",
       "    <tr>\n",
       "      <th>998</th>\n",
       "      <td>gatwick lucia flew revamped business class tod...</td>\n",
       "      <td>0.245370</td>\n",
       "      <td>positive</td>\n",
       "    </tr>\n",
       "    <tr>\n",
       "      <th>999</th>\n",
       "      <td>london chennai amazing crew were very friendly...</td>\n",
       "      <td>0.455357</td>\n",
       "      <td>positive</td>\n",
       "    </tr>\n",
       "  </tbody>\n",
       "</table>\n",
       "<p>1000 rows × 3 columns</p>\n",
       "</div>"
      ],
      "text/plain": [
       "                                               reviews  sentiment_polarity  \\\n",
       "0    great experience could check online separate p...            0.163790   \n",
       "1    excited travelled with them long haul over 25y...            0.059028   \n",
       "2    just want warn everyone worst customer service...            0.076852   \n",
       "3    paid business class travelling cairo london he...           -0.466667   \n",
       "4    plane extremely dirty with chocolate smudged o...           -0.121581   \n",
       "..                                                 ...                 ...   \n",
       "995  london seoul normally business this last minut...            0.103571   \n",
       "996  london heathrow york drop well lounge gallery ...            0.314103   \n",
       "997  diego london from moment that boarded this fli...           -0.032949   \n",
       "998  gatwick lucia flew revamped business class tod...            0.245370   \n",
       "999  london chennai amazing crew were very friendly...            0.455357   \n",
       "\n",
       "    sentiment  \n",
       "0    positive  \n",
       "1    positive  \n",
       "2    positive  \n",
       "3    negative  \n",
       "4    negative  \n",
       "..        ...  \n",
       "995  positive  \n",
       "996  positive  \n",
       "997  negative  \n",
       "998  positive  \n",
       "999  positive  \n",
       "\n",
       "[1000 rows x 3 columns]"
      ]
     },
     "execution_count": 21,
     "metadata": {},
     "output_type": "execute_result"
    }
   ],
   "source": [
    "df1"
   ]
  },
  {
   "cell_type": "code",
   "execution_count": 22,
   "id": "1b98315a",
   "metadata": {},
   "outputs": [],
   "source": [
    "# Save data into your folder\n",
    "df1.to_csv('C:/Data Science/airways/airway_review_data1.csv', index=False)"
   ]
  },
  {
   "cell_type": "code",
   "execution_count": 23,
   "id": "342c5b0f",
   "metadata": {},
   "outputs": [
    {
     "data": {
      "image/png": "[encoded data removed]",
      "text/plain": [
       "<Figure size 800x600 with 1 Axes>"
      ]
     },
     "metadata": {},
     "output_type": "display_data"
    }
   ],
   "source": [
    "# Categorize sentiments as positive, negative, or neutral based on the polarity\n",
    "df1['Sentiment'] = df1['sentiment_polarity'].apply(lambda x: 'positive' if x > 0 else 'negative' if x < 0 else 'neutral')\n",
    "\n",
    "# Count the number of positive, negative, and neutral reviews\n",
    "sentiment_counts = df1['Sentiment'].value_counts()\n",
    "\n",
    "# Plot the bar chart with annotations\n",
    "plt.figure(figsize=(8, 6))\n",
    "ax = sns.barplot(x=sentiment_counts.index, y=sentiment_counts.values, palette='viridis')\n",
    "\n",
    "# Add annotations on top of each bar\n",
    "for p in ax.patches:\n",
    "    ax.annotate(f'{p.get_height()}', (p.get_x() + p.get_width() / 2., p.get_height()), ha='center', va='center', xytext=(0, 10), textcoords='offset points')\n",
    "    \n",
    "# Plot the bar chart\n",
    "\n",
    "plt.title('Sentiment Distribution of Reviews')\n",
    "plt.xlabel('Sentiment')\n",
    "plt.ylabel('Number of Reviews')\n",
    "plt.show()"
   ]
  },
  {
   "cell_type": "code",
   "execution_count": null,
   "id": "7af00cb5",
   "metadata": {},
   "outputs": [],
   "source": []
  }
 ],
 "metadata": {
  "kernelspec": {
   "display_name": "Python 3 (ipykernel)",
   "language": "python",
   "name": "python3"
  },
  "language_info": {
   "codemirror_mode": {
    "name": "ipython",
    "version": 3
   },
   "file_extension": ".py",
   "mimetype": "text/x-python",
   "name": "python",
   "nbconvert_exporter": "python",
   "pygments_lexer": "ipython3",
   "version": "3.9.13"
  }
 },
 "nbformat": 4,
 "nbformat_minor": 5
}
